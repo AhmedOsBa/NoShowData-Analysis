{
 "cells": [
  {
   "cell_type": "markdown",
   "metadata": {},
   "source": [
    "> **Tip**: Welcome to the Investigate a Dataset project! You will find tips in quoted sections like this to help organize your approach to your investigation. Before submitting your project, it will be a good idea to go back through your report and remove these sections to make the presentation of your work as tidy as possible. First things first, you might want to double-click this Markdown cell and change the title so that it reflects your dataset and investigation.\n",
    "\n",
    "# Project: Investigate Medical Appointment No Shows Dataset\n",
    " \n",
    "\n",
    "## Table of Contents\n",
    "<ul>\n",
    "<li><a href=\"#intro\">Introduction</a></li>\n",
    "<li><a href=\"#wrangling\">Data Wrangling</a></li>\n",
    "<li><a href=\"#eda\">Exploratory Data Analysis</a></li>\n",
    "<li><a href=\"#conclusions\">Conclusions</a></li>\n",
    "</ul>"
   ]
  },
  {
   "cell_type": "markdown",
   "metadata": {},
   "source": [
    "<a id='intro'></a>\n",
    "## Introduction\n",
    "\n",
    ">The dataset that I have selected is a no show appointment dataset which has a dependent variable which is the case of the patient showing for their appointment and is presented in the dataset as no for people who have shown for their appointment and yes for people who hasn't shown for their appointments there are many independent variables like gender, age, scheduled day, the patient medical conditions and whether the patient received a notification or not \n",
    "The questions are What factors are important in order to predict if a patient will show up for their scheduled appointment?\n",
    "Age, Gender, Medical Conditions, Scholarship,Appointment and Schedulled day \n",
    "\n"
   ]
  },
  {
   "cell_type": "code",
   "execution_count": 190,
   "metadata": {},
   "outputs": [],
   "source": [
    "# Use this cell to set up import statements for all of the packages that you\n",
    "#   plan to use.\n",
    "import numpy as np\n",
    "\n",
    "import pandas as pd \n",
    "\n",
    "import matplotlib.pyplot as plt \n",
    "\n",
    "%matplotlib inline \n",
    "\n",
    "# Remember to include a 'magic word' so that your visualizations are plotted\n",
    "#   inline with the notebook. See this page for more:\n",
    "#   http://ipython.readthedocs.io/en/stable/interactive/magics.html\n"
   ]
  },
  {
   "cell_type": "markdown",
   "metadata": {},
   "source": [
    "<a id='wrangling'></a>\n",
    "## Data Wrangling ِAnd Cleaning\n",
    "\n",
    "> **Tip**: In this section of the report, you will load in the data, check for cleanliness, and then trim and clean your dataset for analysis. Make sure that you document your steps carefully and justify your cleaning decisions.\n",
    "\n",
    "### General Properties"
   ]
  },
  {
   "cell_type": "code",
   "execution_count": 191,
   "metadata": {},
   "outputs": [
    {
     "data": {
      "text/html": [
       "<div>\n",
       "<style scoped>\n",
       "    .dataframe tbody tr th:only-of-type {\n",
       "        vertical-align: middle;\n",
       "    }\n",
       "\n",
       "    .dataframe tbody tr th {\n",
       "        vertical-align: top;\n",
       "    }\n",
       "\n",
       "    .dataframe thead th {\n",
       "        text-align: right;\n",
       "    }\n",
       "</style>\n",
       "<table border=\"1\" class=\"dataframe\">\n",
       "  <thead>\n",
       "    <tr style=\"text-align: right;\">\n",
       "      <th></th>\n",
       "      <th>PatientId</th>\n",
       "      <th>AppointmentID</th>\n",
       "      <th>Gender</th>\n",
       "      <th>ScheduledDay</th>\n",
       "      <th>AppointmentDay</th>\n",
       "      <th>Age</th>\n",
       "      <th>Neighbourhood</th>\n",
       "      <th>Scholarship</th>\n",
       "      <th>Hipertension</th>\n",
       "      <th>Diabetes</th>\n",
       "      <th>Alcoholism</th>\n",
       "      <th>Handcap</th>\n",
       "      <th>SMS_received</th>\n",
       "      <th>No-show</th>\n",
       "    </tr>\n",
       "  </thead>\n",
       "  <tbody>\n",
       "    <tr>\n",
       "      <th>0</th>\n",
       "      <td>2.987250e+13</td>\n",
       "      <td>5642903</td>\n",
       "      <td>F</td>\n",
       "      <td>2016-04-29T18:38:08Z</td>\n",
       "      <td>2016-04-29T00:00:00Z</td>\n",
       "      <td>62</td>\n",
       "      <td>JARDIM DA PENHA</td>\n",
       "      <td>0</td>\n",
       "      <td>1</td>\n",
       "      <td>0</td>\n",
       "      <td>0</td>\n",
       "      <td>0</td>\n",
       "      <td>0</td>\n",
       "      <td>No</td>\n",
       "    </tr>\n",
       "    <tr>\n",
       "      <th>1</th>\n",
       "      <td>5.589978e+14</td>\n",
       "      <td>5642503</td>\n",
       "      <td>M</td>\n",
       "      <td>2016-04-29T16:08:27Z</td>\n",
       "      <td>2016-04-29T00:00:00Z</td>\n",
       "      <td>56</td>\n",
       "      <td>JARDIM DA PENHA</td>\n",
       "      <td>0</td>\n",
       "      <td>0</td>\n",
       "      <td>0</td>\n",
       "      <td>0</td>\n",
       "      <td>0</td>\n",
       "      <td>0</td>\n",
       "      <td>No</td>\n",
       "    </tr>\n",
       "    <tr>\n",
       "      <th>2</th>\n",
       "      <td>4.262962e+12</td>\n",
       "      <td>5642549</td>\n",
       "      <td>F</td>\n",
       "      <td>2016-04-29T16:19:04Z</td>\n",
       "      <td>2016-04-29T00:00:00Z</td>\n",
       "      <td>62</td>\n",
       "      <td>MATA DA PRAIA</td>\n",
       "      <td>0</td>\n",
       "      <td>0</td>\n",
       "      <td>0</td>\n",
       "      <td>0</td>\n",
       "      <td>0</td>\n",
       "      <td>0</td>\n",
       "      <td>No</td>\n",
       "    </tr>\n",
       "    <tr>\n",
       "      <th>3</th>\n",
       "      <td>8.679512e+11</td>\n",
       "      <td>5642828</td>\n",
       "      <td>F</td>\n",
       "      <td>2016-04-29T17:29:31Z</td>\n",
       "      <td>2016-04-29T00:00:00Z</td>\n",
       "      <td>8</td>\n",
       "      <td>PONTAL DE CAMBURI</td>\n",
       "      <td>0</td>\n",
       "      <td>0</td>\n",
       "      <td>0</td>\n",
       "      <td>0</td>\n",
       "      <td>0</td>\n",
       "      <td>0</td>\n",
       "      <td>No</td>\n",
       "    </tr>\n",
       "    <tr>\n",
       "      <th>4</th>\n",
       "      <td>8.841186e+12</td>\n",
       "      <td>5642494</td>\n",
       "      <td>F</td>\n",
       "      <td>2016-04-29T16:07:23Z</td>\n",
       "      <td>2016-04-29T00:00:00Z</td>\n",
       "      <td>56</td>\n",
       "      <td>JARDIM DA PENHA</td>\n",
       "      <td>0</td>\n",
       "      <td>1</td>\n",
       "      <td>1</td>\n",
       "      <td>0</td>\n",
       "      <td>0</td>\n",
       "      <td>0</td>\n",
       "      <td>No</td>\n",
       "    </tr>\n",
       "    <tr>\n",
       "      <th>5</th>\n",
       "      <td>9.598513e+13</td>\n",
       "      <td>5626772</td>\n",
       "      <td>F</td>\n",
       "      <td>2016-04-27T08:36:51Z</td>\n",
       "      <td>2016-04-29T00:00:00Z</td>\n",
       "      <td>76</td>\n",
       "      <td>REPÚBLICA</td>\n",
       "      <td>0</td>\n",
       "      <td>1</td>\n",
       "      <td>0</td>\n",
       "      <td>0</td>\n",
       "      <td>0</td>\n",
       "      <td>0</td>\n",
       "      <td>No</td>\n",
       "    </tr>\n",
       "    <tr>\n",
       "      <th>6</th>\n",
       "      <td>7.336882e+14</td>\n",
       "      <td>5630279</td>\n",
       "      <td>F</td>\n",
       "      <td>2016-04-27T15:05:12Z</td>\n",
       "      <td>2016-04-29T00:00:00Z</td>\n",
       "      <td>23</td>\n",
       "      <td>GOIABEIRAS</td>\n",
       "      <td>0</td>\n",
       "      <td>0</td>\n",
       "      <td>0</td>\n",
       "      <td>0</td>\n",
       "      <td>0</td>\n",
       "      <td>0</td>\n",
       "      <td>Yes</td>\n",
       "    </tr>\n",
       "    <tr>\n",
       "      <th>7</th>\n",
       "      <td>3.449833e+12</td>\n",
       "      <td>5630575</td>\n",
       "      <td>F</td>\n",
       "      <td>2016-04-27T15:39:58Z</td>\n",
       "      <td>2016-04-29T00:00:00Z</td>\n",
       "      <td>39</td>\n",
       "      <td>GOIABEIRAS</td>\n",
       "      <td>0</td>\n",
       "      <td>0</td>\n",
       "      <td>0</td>\n",
       "      <td>0</td>\n",
       "      <td>0</td>\n",
       "      <td>0</td>\n",
       "      <td>Yes</td>\n",
       "    </tr>\n",
       "    <tr>\n",
       "      <th>8</th>\n",
       "      <td>5.639473e+13</td>\n",
       "      <td>5638447</td>\n",
       "      <td>F</td>\n",
       "      <td>2016-04-29T08:02:16Z</td>\n",
       "      <td>2016-04-29T00:00:00Z</td>\n",
       "      <td>21</td>\n",
       "      <td>ANDORINHAS</td>\n",
       "      <td>0</td>\n",
       "      <td>0</td>\n",
       "      <td>0</td>\n",
       "      <td>0</td>\n",
       "      <td>0</td>\n",
       "      <td>0</td>\n",
       "      <td>No</td>\n",
       "    </tr>\n",
       "    <tr>\n",
       "      <th>9</th>\n",
       "      <td>7.812456e+13</td>\n",
       "      <td>5629123</td>\n",
       "      <td>F</td>\n",
       "      <td>2016-04-27T12:48:25Z</td>\n",
       "      <td>2016-04-29T00:00:00Z</td>\n",
       "      <td>19</td>\n",
       "      <td>CONQUISTA</td>\n",
       "      <td>0</td>\n",
       "      <td>0</td>\n",
       "      <td>0</td>\n",
       "      <td>0</td>\n",
       "      <td>0</td>\n",
       "      <td>0</td>\n",
       "      <td>No</td>\n",
       "    </tr>\n",
       "  </tbody>\n",
       "</table>\n",
       "</div>"
      ],
      "text/plain": [
       "      PatientId  AppointmentID Gender          ScheduledDay  \\\n",
       "0  2.987250e+13        5642903      F  2016-04-29T18:38:08Z   \n",
       "1  5.589978e+14        5642503      M  2016-04-29T16:08:27Z   \n",
       "2  4.262962e+12        5642549      F  2016-04-29T16:19:04Z   \n",
       "3  8.679512e+11        5642828      F  2016-04-29T17:29:31Z   \n",
       "4  8.841186e+12        5642494      F  2016-04-29T16:07:23Z   \n",
       "5  9.598513e+13        5626772      F  2016-04-27T08:36:51Z   \n",
       "6  7.336882e+14        5630279      F  2016-04-27T15:05:12Z   \n",
       "7  3.449833e+12        5630575      F  2016-04-27T15:39:58Z   \n",
       "8  5.639473e+13        5638447      F  2016-04-29T08:02:16Z   \n",
       "9  7.812456e+13        5629123      F  2016-04-27T12:48:25Z   \n",
       "\n",
       "         AppointmentDay  Age      Neighbourhood  Scholarship  Hipertension  \\\n",
       "0  2016-04-29T00:00:00Z   62    JARDIM DA PENHA            0             1   \n",
       "1  2016-04-29T00:00:00Z   56    JARDIM DA PENHA            0             0   \n",
       "2  2016-04-29T00:00:00Z   62      MATA DA PRAIA            0             0   \n",
       "3  2016-04-29T00:00:00Z    8  PONTAL DE CAMBURI            0             0   \n",
       "4  2016-04-29T00:00:00Z   56    JARDIM DA PENHA            0             1   \n",
       "5  2016-04-29T00:00:00Z   76          REPÚBLICA            0             1   \n",
       "6  2016-04-29T00:00:00Z   23         GOIABEIRAS            0             0   \n",
       "7  2016-04-29T00:00:00Z   39         GOIABEIRAS            0             0   \n",
       "8  2016-04-29T00:00:00Z   21         ANDORINHAS            0             0   \n",
       "9  2016-04-29T00:00:00Z   19          CONQUISTA            0             0   \n",
       "\n",
       "   Diabetes  Alcoholism  Handcap  SMS_received No-show  \n",
       "0         0           0        0             0      No  \n",
       "1         0           0        0             0      No  \n",
       "2         0           0        0             0      No  \n",
       "3         0           0        0             0      No  \n",
       "4         1           0        0             0      No  \n",
       "5         0           0        0             0      No  \n",
       "6         0           0        0             0     Yes  \n",
       "7         0           0        0             0     Yes  \n",
       "8         0           0        0             0      No  \n",
       "9         0           0        0             0      No  "
      ]
     },
     "execution_count": 191,
     "metadata": {},
     "output_type": "execute_result"
    }
   ],
   "source": [
    "# Load your data and print out a few lines. Perform operations to inspect data\n",
    "#   types and look for instances of missing or possibly errant data.\n",
    "noshow_df=pd.read_csv('noshowappointments.csv')\n",
    "noshow_df.head(10)"
   ]
  },
  {
   "cell_type": "markdown",
   "metadata": {},
   "source": [
    "### Get to know dataset shape "
   ]
  },
  {
   "cell_type": "code",
   "execution_count": 192,
   "metadata": {},
   "outputs": [
    {
     "data": {
      "text/plain": [
       "(110527, 14)"
      ]
     },
     "execution_count": 192,
     "metadata": {},
     "output_type": "execute_result"
    }
   ],
   "source": [
    "noshow_df.shape\n",
    "\n"
   ]
  },
  {
   "cell_type": "markdown",
   "metadata": {},
   "source": [
    "### Get Description for every numerical variable to spot irregularities"
   ]
  },
  {
   "cell_type": "code",
   "execution_count": 193,
   "metadata": {},
   "outputs": [
    {
     "data": {
      "text/html": [
       "<div>\n",
       "<style scoped>\n",
       "    .dataframe tbody tr th:only-of-type {\n",
       "        vertical-align: middle;\n",
       "    }\n",
       "\n",
       "    .dataframe tbody tr th {\n",
       "        vertical-align: top;\n",
       "    }\n",
       "\n",
       "    .dataframe thead th {\n",
       "        text-align: right;\n",
       "    }\n",
       "</style>\n",
       "<table border=\"1\" class=\"dataframe\">\n",
       "  <thead>\n",
       "    <tr style=\"text-align: right;\">\n",
       "      <th></th>\n",
       "      <th>PatientId</th>\n",
       "      <th>AppointmentID</th>\n",
       "      <th>Age</th>\n",
       "      <th>Scholarship</th>\n",
       "      <th>Hipertension</th>\n",
       "      <th>Diabetes</th>\n",
       "      <th>Alcoholism</th>\n",
       "      <th>Handcap</th>\n",
       "      <th>SMS_received</th>\n",
       "    </tr>\n",
       "  </thead>\n",
       "  <tbody>\n",
       "    <tr>\n",
       "      <th>count</th>\n",
       "      <td>1.105270e+05</td>\n",
       "      <td>1.105270e+05</td>\n",
       "      <td>110527.000000</td>\n",
       "      <td>110527.000000</td>\n",
       "      <td>110527.000000</td>\n",
       "      <td>110527.000000</td>\n",
       "      <td>110527.000000</td>\n",
       "      <td>110527.000000</td>\n",
       "      <td>110527.000000</td>\n",
       "    </tr>\n",
       "    <tr>\n",
       "      <th>mean</th>\n",
       "      <td>1.474963e+14</td>\n",
       "      <td>5.675305e+06</td>\n",
       "      <td>37.088874</td>\n",
       "      <td>0.098266</td>\n",
       "      <td>0.197246</td>\n",
       "      <td>0.071865</td>\n",
       "      <td>0.030400</td>\n",
       "      <td>0.022248</td>\n",
       "      <td>0.321026</td>\n",
       "    </tr>\n",
       "    <tr>\n",
       "      <th>std</th>\n",
       "      <td>2.560949e+14</td>\n",
       "      <td>7.129575e+04</td>\n",
       "      <td>23.110205</td>\n",
       "      <td>0.297675</td>\n",
       "      <td>0.397921</td>\n",
       "      <td>0.258265</td>\n",
       "      <td>0.171686</td>\n",
       "      <td>0.161543</td>\n",
       "      <td>0.466873</td>\n",
       "    </tr>\n",
       "    <tr>\n",
       "      <th>min</th>\n",
       "      <td>3.921784e+04</td>\n",
       "      <td>5.030230e+06</td>\n",
       "      <td>-1.000000</td>\n",
       "      <td>0.000000</td>\n",
       "      <td>0.000000</td>\n",
       "      <td>0.000000</td>\n",
       "      <td>0.000000</td>\n",
       "      <td>0.000000</td>\n",
       "      <td>0.000000</td>\n",
       "    </tr>\n",
       "    <tr>\n",
       "      <th>25%</th>\n",
       "      <td>4.172614e+12</td>\n",
       "      <td>5.640286e+06</td>\n",
       "      <td>18.000000</td>\n",
       "      <td>0.000000</td>\n",
       "      <td>0.000000</td>\n",
       "      <td>0.000000</td>\n",
       "      <td>0.000000</td>\n",
       "      <td>0.000000</td>\n",
       "      <td>0.000000</td>\n",
       "    </tr>\n",
       "    <tr>\n",
       "      <th>50%</th>\n",
       "      <td>3.173184e+13</td>\n",
       "      <td>5.680573e+06</td>\n",
       "      <td>37.000000</td>\n",
       "      <td>0.000000</td>\n",
       "      <td>0.000000</td>\n",
       "      <td>0.000000</td>\n",
       "      <td>0.000000</td>\n",
       "      <td>0.000000</td>\n",
       "      <td>0.000000</td>\n",
       "    </tr>\n",
       "    <tr>\n",
       "      <th>75%</th>\n",
       "      <td>9.439172e+13</td>\n",
       "      <td>5.725524e+06</td>\n",
       "      <td>55.000000</td>\n",
       "      <td>0.000000</td>\n",
       "      <td>0.000000</td>\n",
       "      <td>0.000000</td>\n",
       "      <td>0.000000</td>\n",
       "      <td>0.000000</td>\n",
       "      <td>1.000000</td>\n",
       "    </tr>\n",
       "    <tr>\n",
       "      <th>max</th>\n",
       "      <td>9.999816e+14</td>\n",
       "      <td>5.790484e+06</td>\n",
       "      <td>115.000000</td>\n",
       "      <td>1.000000</td>\n",
       "      <td>1.000000</td>\n",
       "      <td>1.000000</td>\n",
       "      <td>1.000000</td>\n",
       "      <td>4.000000</td>\n",
       "      <td>1.000000</td>\n",
       "    </tr>\n",
       "  </tbody>\n",
       "</table>\n",
       "</div>"
      ],
      "text/plain": [
       "          PatientId  AppointmentID            Age    Scholarship  \\\n",
       "count  1.105270e+05   1.105270e+05  110527.000000  110527.000000   \n",
       "mean   1.474963e+14   5.675305e+06      37.088874       0.098266   \n",
       "std    2.560949e+14   7.129575e+04      23.110205       0.297675   \n",
       "min    3.921784e+04   5.030230e+06      -1.000000       0.000000   \n",
       "25%    4.172614e+12   5.640286e+06      18.000000       0.000000   \n",
       "50%    3.173184e+13   5.680573e+06      37.000000       0.000000   \n",
       "75%    9.439172e+13   5.725524e+06      55.000000       0.000000   \n",
       "max    9.999816e+14   5.790484e+06     115.000000       1.000000   \n",
       "\n",
       "        Hipertension       Diabetes     Alcoholism        Handcap  \\\n",
       "count  110527.000000  110527.000000  110527.000000  110527.000000   \n",
       "mean        0.197246       0.071865       0.030400       0.022248   \n",
       "std         0.397921       0.258265       0.171686       0.161543   \n",
       "min         0.000000       0.000000       0.000000       0.000000   \n",
       "25%         0.000000       0.000000       0.000000       0.000000   \n",
       "50%         0.000000       0.000000       0.000000       0.000000   \n",
       "75%         0.000000       0.000000       0.000000       0.000000   \n",
       "max         1.000000       1.000000       1.000000       4.000000   \n",
       "\n",
       "        SMS_received  \n",
       "count  110527.000000  \n",
       "mean        0.321026  \n",
       "std         0.466873  \n",
       "min         0.000000  \n",
       "25%         0.000000  \n",
       "50%         0.000000  \n",
       "75%         1.000000  \n",
       "max         1.000000  "
      ]
     },
     "execution_count": 193,
     "metadata": {},
     "output_type": "execute_result"
    }
   ],
   "source": [
    "noshow_df.describe()"
   ]
  },
  {
   "cell_type": "markdown",
   "metadata": {},
   "source": [
    "### Get all data which has age less than 0"
   ]
  },
  {
   "cell_type": "code",
   "execution_count": 194,
   "metadata": {},
   "outputs": [],
   "source": [
    "age_index=noshow_df.loc[noshow_df['Age']<0].index\n"
   ]
  },
  {
   "cell_type": "markdown",
   "metadata": {},
   "source": [
    "### Remove data with age less than 0"
   ]
  },
  {
   "cell_type": "code",
   "execution_count": 195,
   "metadata": {},
   "outputs": [],
   "source": [
    "noshow_df.drop(age_index,axis=0,inplace=True)"
   ]
  },
  {
   "cell_type": "markdown",
   "metadata": {},
   "source": [
    "### Drop unused columns "
   ]
  },
  {
   "cell_type": "code",
   "execution_count": 196,
   "metadata": {},
   "outputs": [],
   "source": [
    "noshow_df.drop(['PatientId','AppointmentID'],axis=1,inplace=True)"
   ]
  },
  {
   "cell_type": "markdown",
   "metadata": {},
   "source": [
    "### Checking for Null value "
   ]
  },
  {
   "cell_type": "code",
   "execution_count": 197,
   "metadata": {},
   "outputs": [
    {
     "name": "stdout",
     "output_type": "stream",
     "text": [
      "<class 'pandas.core.frame.DataFrame'>\n",
      "Int64Index: 110526 entries, 0 to 110526\n",
      "Data columns (total 12 columns):\n",
      " #   Column          Non-Null Count   Dtype \n",
      "---  ------          --------------   ----- \n",
      " 0   Gender          110526 non-null  object\n",
      " 1   ScheduledDay    110526 non-null  object\n",
      " 2   AppointmentDay  110526 non-null  object\n",
      " 3   Age             110526 non-null  int64 \n",
      " 4   Neighbourhood   110526 non-null  object\n",
      " 5   Scholarship     110526 non-null  int64 \n",
      " 6   Hipertension    110526 non-null  int64 \n",
      " 7   Diabetes        110526 non-null  int64 \n",
      " 8   Alcoholism      110526 non-null  int64 \n",
      " 9   Handcap         110526 non-null  int64 \n",
      " 10  SMS_received    110526 non-null  int64 \n",
      " 11  No-show         110526 non-null  object\n",
      "dtypes: int64(7), object(5)\n",
      "memory usage: 11.0+ MB\n"
     ]
    }
   ],
   "source": [
    "noshow_df.info()"
   ]
  },
  {
   "cell_type": "markdown",
   "metadata": {},
   "source": [
    "### Change ScheduledDay AppointmentDay To Date and Time Format"
   ]
  },
  {
   "cell_type": "code",
   "execution_count": 198,
   "metadata": {},
   "outputs": [],
   "source": [
    "noshow_df['ScheduledDay']=pd.to_datetime(noshow_df['ScheduledDay'])"
   ]
  },
  {
   "cell_type": "code",
   "execution_count": 199,
   "metadata": {},
   "outputs": [],
   "source": [
    "noshow_df['AppointmentDay']=pd.to_datetime(noshow_df['AppointmentDay'])"
   ]
  },
  {
   "cell_type": "markdown",
   "metadata": {},
   "source": [
    " ### Create Month and Day Name columns "
   ]
  },
  {
   "cell_type": "code",
   "execution_count": 200,
   "metadata": {},
   "outputs": [],
   "source": [
    "noshow_df['ScheduledDayName']=noshow_df['ScheduledDay'].dt.day_name()"
   ]
  },
  {
   "cell_type": "code",
   "execution_count": 201,
   "metadata": {},
   "outputs": [],
   "source": [
    "noshow_df['AppointmentDayName']=noshow_df['AppointmentDay'].dt.day_name()"
   ]
  },
  {
   "cell_type": "code",
   "execution_count": 202,
   "metadata": {},
   "outputs": [],
   "source": [
    "noshow_df['ScheduledDayMonth']=noshow_df['ScheduledDay'].dt.month"
   ]
  },
  {
   "cell_type": "code",
   "execution_count": 203,
   "metadata": {},
   "outputs": [],
   "source": [
    "noshow_df['AppointmentDayMonth']=noshow_df['AppointmentDay'].dt.month"
   ]
  },
  {
   "cell_type": "markdown",
   "metadata": {},
   "source": [
    "### Create Waiting Interval column "
   ]
  },
  {
   "cell_type": "code",
   "execution_count": 204,
   "metadata": {},
   "outputs": [],
   "source": [
    "noshow_df['Waiting_Interval']=noshow_df['AppointmentDay']-noshow_df['ScheduledDay']"
   ]
  },
  {
   "cell_type": "code",
   "execution_count": 205,
   "metadata": {},
   "outputs": [],
   "source": [
    "noshow_df['Waiting_Interval']=noshow_df['Waiting_Interval'].dt.days"
   ]
  },
  {
   "cell_type": "code",
   "execution_count": 206,
   "metadata": {},
   "outputs": [
    {
     "data": {
      "text/plain": [
       "array([ -1,   1,   2,   0,   3,   8,  28,   9,  22,  10,  17,  16,  13,\n",
       "        27,  23,  20,  14,  15,  21,  42,  29,  30,  41,  31,  55,  44,\n",
       "        45,  38,  36,  37,  43,  49,  59,  51,  52,  64,  66,  90,  65,\n",
       "        83,  77,  86, 114, 108,  62,  69,  71,  56,  57,  50,  58,  40,\n",
       "        48,  72,  63,  19,  32,  33,   5,  34,  35,  11,  12,  39,  46,\n",
       "         7,   4,   6,  24,  25,  47,  26,  18,  60,  54,  61, 175,  53,\n",
       "        76,  68,  82,  75,  88,  80, 102,  78,  67,  74,  84, 111,  -2,\n",
       "        79,  85,  97,  93, 141, 154, 161, 168, 103, 132, 124,  95,  87,\n",
       "        89, 150, 125, 126, 110, 118,  73,  70,  81, 107, 109, 101, 121,\n",
       "       100, 104,  91,  96,  92, 106,  94,  -7, 138, 131, 178, 116, 145,\n",
       "       122], dtype=int64)"
      ]
     },
     "execution_count": 206,
     "metadata": {},
     "output_type": "execute_result"
    }
   ],
   "source": [
    "noshow_df['Waiting_Interval'].unique() # we are using only days because appointment has no hour attribute in dataset"
   ]
  },
  {
   "cell_type": "markdown",
   "metadata": {},
   "source": [
    "### Remove Negative waiting days because its not possible "
   ]
  },
  {
   "cell_type": "code",
   "execution_count": 207,
   "metadata": {},
   "outputs": [],
   "source": [
    "Negative_waiting_days=noshow_df.loc[noshow_df['Waiting_Interval']<0].index"
   ]
  },
  {
   "cell_type": "code",
   "execution_count": 208,
   "metadata": {},
   "outputs": [],
   "source": [
    "noshow_df.drop(Negative_waiting_days,axis=0,inplace=True)"
   ]
  },
  {
   "cell_type": "code",
   "execution_count": 209,
   "metadata": {},
   "outputs": [
    {
     "data": {
      "text/plain": [
       "array([  1,   2,   0,   3,   8,  28,   9,  22,  10,  17,  16,  13,  27,\n",
       "        23,  20,  14,  15,  21,  42,  29,  30,  41,  31,  55,  44,  45,\n",
       "        38,  36,  37,  43,  49,  59,  51,  52,  64,  66,  90,  65,  83,\n",
       "        77,  86, 114, 108,  62,  69,  71,  56,  57,  50,  58,  40,  48,\n",
       "        72,  63,  19,  32,  33,   5,  34,  35,  11,  12,  39,  46,   7,\n",
       "         4,   6,  24,  25,  47,  26,  18,  60,  54,  61, 175,  53,  76,\n",
       "        68,  82,  75,  88,  80, 102,  78,  67,  74,  84, 111,  79,  85,\n",
       "        97,  93, 141, 154, 161, 168, 103, 132, 124,  95,  87,  89, 150,\n",
       "       125, 126, 110, 118,  73,  70,  81, 107, 109, 101, 121, 100, 104,\n",
       "        91,  96,  92, 106,  94, 138, 131, 178, 116, 145, 122], dtype=int64)"
      ]
     },
     "execution_count": 209,
     "metadata": {},
     "output_type": "execute_result"
    }
   ],
   "source": [
    "#check for negative values again \n",
    "noshow_df['Waiting_Interval'].unique()"
   ]
  },
  {
   "cell_type": "markdown",
   "metadata": {},
   "source": [
    "### Get Unique Values for evey Independent  feature "
   ]
  },
  {
   "cell_type": "code",
   "execution_count": 210,
   "metadata": {},
   "outputs": [
    {
     "data": {
      "text/plain": [
       "array(['Gender', 'ScheduledDay', 'AppointmentDay', 'Age', 'Neighbourhood',\n",
       "       'Scholarship', 'Hipertension', 'Diabetes', 'Alcoholism', 'Handcap',\n",
       "       'SMS_received', 'No-show', 'ScheduledDayName',\n",
       "       'AppointmentDayName', 'ScheduledDayMonth', 'AppointmentDayMonth',\n",
       "       'Waiting_Interval'], dtype=object)"
      ]
     },
     "execution_count": 210,
     "metadata": {},
     "output_type": "execute_result"
    }
   ],
   "source": [
    "noshow_df.columns.values"
   ]
  },
  {
   "cell_type": "code",
   "execution_count": 211,
   "metadata": {},
   "outputs": [
    {
     "data": {
      "text/plain": [
       "array(['F', 'M'], dtype=object)"
      ]
     },
     "execution_count": 211,
     "metadata": {},
     "output_type": "execute_result"
    }
   ],
   "source": [
    "noshow_df.Gender.unique()"
   ]
  },
  {
   "cell_type": "code",
   "execution_count": 212,
   "metadata": {},
   "outputs": [
    {
     "data": {
      "text/plain": [
       "array([27, 26, 28, 25, 20, 31, 19,  6, 18, 11, 12, 15,  1,  5,  8, 14, 13,\n",
       "        7, 17, 30, 29,  4, 21, 23, 22, 16, 10, 24,  2,  3,  9],\n",
       "      dtype=int64)"
      ]
     },
     "execution_count": 212,
     "metadata": {},
     "output_type": "execute_result"
    }
   ],
   "source": [
    "noshow_df.ScheduledDay.dt.day.unique()"
   ]
  },
  {
   "cell_type": "code",
   "execution_count": 213,
   "metadata": {
    "scrolled": true
   },
   "outputs": [
    {
     "data": {
      "text/plain": [
       "array([ 4,  3,  2,  1,  5, 11, 12,  6], dtype=int64)"
      ]
     },
     "execution_count": 213,
     "metadata": {},
     "output_type": "execute_result"
    }
   ],
   "source": [
    "noshow_df.ScheduledDay.dt.month.unique()"
   ]
  },
  {
   "cell_type": "code",
   "execution_count": 214,
   "metadata": {
    "scrolled": true
   },
   "outputs": [
    {
     "data": {
      "text/plain": [
       "array([ 8, 15, 12, 14, 11, 10,  9,  7, 13, 17, 18, 16, 19, 20,  6, 21],\n",
       "      dtype=int64)"
      ]
     },
     "execution_count": 214,
     "metadata": {},
     "output_type": "execute_result"
    }
   ],
   "source": [
    "noshow_df.ScheduledDay.dt.hour.unique()"
   ]
  },
  {
   "cell_type": "code",
   "execution_count": 215,
   "metadata": {},
   "outputs": [
    {
     "data": {
      "text/plain": [
       "array([29,  3, 10, 17, 31, 24,  2, 16, 19,  6, 20,  5, 30, 12, 13,  9,  4,\n",
       "       25, 11, 18, 14,  7,  1,  8], dtype=int64)"
      ]
     },
     "execution_count": 215,
     "metadata": {},
     "output_type": "execute_result"
    }
   ],
   "source": [
    "noshow_df.AppointmentDay.dt.day.unique()"
   ]
  },
  {
   "cell_type": "code",
   "execution_count": 216,
   "metadata": {},
   "outputs": [
    {
     "data": {
      "text/plain": [
       "array([4, 5, 6], dtype=int64)"
      ]
     },
     "execution_count": 216,
     "metadata": {},
     "output_type": "execute_result"
    }
   ],
   "source": [
    "noshow_df.AppointmentDay.dt.month.unique()"
   ]
  },
  {
   "cell_type": "code",
   "execution_count": 217,
   "metadata": {},
   "outputs": [
    {
     "data": {
      "text/plain": [
       "array([0], dtype=int64)"
      ]
     },
     "execution_count": 217,
     "metadata": {},
     "output_type": "execute_result"
    }
   ],
   "source": [
    "noshow_df.AppointmentDay.dt.hour.unique()"
   ]
  },
  {
   "cell_type": "code",
   "execution_count": 218,
   "metadata": {},
   "outputs": [
    {
     "data": {
      "text/plain": [
       "array([ 76,  23,  39,  19,  30,  29,  22,  28,  54,  15,  50,  40,   4,\n",
       "        13,  46,  12,  38,  85,  55,  71,  78,  31,  58,  27,   8,   2,\n",
       "         3,   0,  69,  62,  68,  64,  60,  21,  67,  49,  10,   1,  11,\n",
       "        35,  51,  20,  26,  34,  56,  59,  18,  33,  16,  36,  42,  47,\n",
       "        17,  41,   5,  45,  44,  37,  24,  32,   6,  66,  63,  75,  52,\n",
       "        74,  53,  65,  57,  14,   9,  43,   7,  70,  72,  48,  87,  25,\n",
       "        83,  77,  61,  88,  89,  79,  73,  80,  84,  82,  94,  86,  91,\n",
       "        98,  81,  92,  90,  96,  93,  95,  97, 115, 100, 102], dtype=int64)"
      ]
     },
     "execution_count": 218,
     "metadata": {},
     "output_type": "execute_result"
    }
   ],
   "source": [
    "noshow_df.Age.unique()"
   ]
  },
  {
   "cell_type": "code",
   "execution_count": 219,
   "metadata": {},
   "outputs": [
    {
     "data": {
      "text/plain": [
       "array(['REPÚBLICA', 'GOIABEIRAS', 'CONQUISTA', 'NOVA PALESTINA',\n",
       "       'SÃO CRISTÓVÃO', 'TABUAZEIRO', 'MARUÍPE', 'GRANDE VITÓRIA',\n",
       "       'SÃO BENEDITO', 'ILHA DAS CAIEIRAS', 'JARDIM DA PENHA',\n",
       "       'SANTO ANDRÉ', 'SOLON BORGES', 'BONFIM', 'MARIA ORTIZ', 'JABOUR',\n",
       "       'ANTÔNIO HONÓRIO', 'RESISTÊNCIA', 'ILHA DE SANTA MARIA',\n",
       "       'JUCUTUQUARA', 'MÁRIO CYPRESTE', 'SANTO ANTÔNIO', 'BELA VISTA',\n",
       "       'PRAIA DO SUÁ', 'DA PENHA', 'ITARARÉ', 'ANDORINHAS', 'SÃO PEDRO',\n",
       "       'SÃO JOSÉ', 'REDENÇÃO', 'SANTOS DUMONT', 'CARATOÍRA',\n",
       "       'ARIOVALDO FAVALESSA', 'UNIVERSITÁRIO', 'SANTA MARTHA',\n",
       "       'JOANA D´ARC', 'CONSOLAÇÃO', 'JARDIM CAMBURI', 'BOA VISTA',\n",
       "       'MORADA DE CAMBURI', 'CENTRO', 'PARQUE MOSCOSO', 'SANTA CLARA',\n",
       "       'DO MOSCOSO', 'SANTA LUÍZA', 'PRAIA DO CANTO', 'SANTA LÚCIA',\n",
       "       'BARRO VERMELHO', 'BENTO FERREIRA', 'ESTRELINHA', 'FORTE SÃO JOÃO',\n",
       "       'FONTE GRANDE', 'ENSEADA DO SUÁ', 'SANTOS REIS', 'PIEDADE',\n",
       "       'JESUS DE NAZARETH', 'SANTA TEREZA', 'GURIGICA', 'CRUZAMENTO',\n",
       "       'ILHA DO PRÍNCIPE', 'COMDUSA', 'MATA DA PRAIA', 'SANTA CECÍLIA',\n",
       "       'DE LOURDES', 'MONTE BELO', 'VILA RUBIM', 'DO QUADRO', 'ROMÃO',\n",
       "       'INHANGUETÁ', 'DO CABRAL', 'ILHA DO BOI', 'HORTO', 'NAZARETH',\n",
       "       'SANTA HELENA', 'FRADINHOS', 'SEGURANÇA DO LAR',\n",
       "       'PONTAL DE CAMBURI', 'ILHA DO FRADE', 'AEROPORTO',\n",
       "       'ILHAS OCEÂNICAS DE TRINDADE'], dtype=object)"
      ]
     },
     "execution_count": 219,
     "metadata": {},
     "output_type": "execute_result"
    }
   ],
   "source": [
    "noshow_df.Neighbourhood.unique()"
   ]
  },
  {
   "cell_type": "code",
   "execution_count": 220,
   "metadata": {},
   "outputs": [
    {
     "data": {
      "text/plain": [
       "array([0, 1], dtype=int64)"
      ]
     },
     "execution_count": 220,
     "metadata": {},
     "output_type": "execute_result"
    }
   ],
   "source": [
    "noshow_df.Scholarship.unique()"
   ]
  },
  {
   "cell_type": "code",
   "execution_count": 221,
   "metadata": {},
   "outputs": [
    {
     "data": {
      "text/plain": [
       "array([1, 0], dtype=int64)"
      ]
     },
     "execution_count": 221,
     "metadata": {},
     "output_type": "execute_result"
    }
   ],
   "source": [
    "noshow_df.Hipertension.unique()"
   ]
  },
  {
   "cell_type": "code",
   "execution_count": 222,
   "metadata": {},
   "outputs": [
    {
     "data": {
      "text/plain": [
       "array([0, 1], dtype=int64)"
      ]
     },
     "execution_count": 222,
     "metadata": {},
     "output_type": "execute_result"
    }
   ],
   "source": [
    "noshow_df.Diabetes.unique()"
   ]
  },
  {
   "cell_type": "code",
   "execution_count": 223,
   "metadata": {},
   "outputs": [
    {
     "data": {
      "text/plain": [
       "array([0, 1], dtype=int64)"
      ]
     },
     "execution_count": 223,
     "metadata": {},
     "output_type": "execute_result"
    }
   ],
   "source": [
    "noshow_df.Alcoholism.unique()"
   ]
  },
  {
   "cell_type": "code",
   "execution_count": 224,
   "metadata": {},
   "outputs": [
    {
     "data": {
      "text/plain": [
       "array([0, 1, 2, 3, 4], dtype=int64)"
      ]
     },
     "execution_count": 224,
     "metadata": {},
     "output_type": "execute_result"
    }
   ],
   "source": [
    "noshow_df.Handcap.unique() # As stated by the dataset creator the handcap number represents number of disabilities someone has"
   ]
  },
  {
   "cell_type": "code",
   "execution_count": 225,
   "metadata": {},
   "outputs": [
    {
     "data": {
      "text/plain": [
       "array([0, 1], dtype=int64)"
      ]
     },
     "execution_count": 225,
     "metadata": {},
     "output_type": "execute_result"
    }
   ],
   "source": [
    "noshow_df.SMS_received.unique()"
   ]
  },
  {
   "cell_type": "markdown",
   "metadata": {},
   "source": [
    "### Values of dependent feature"
   ]
  },
  {
   "cell_type": "code",
   "execution_count": 226,
   "metadata": {},
   "outputs": [
    {
     "data": {
      "text/plain": [
       "array(['No', 'Yes'], dtype=object)"
      ]
     },
     "execution_count": 226,
     "metadata": {},
     "output_type": "execute_result"
    }
   ],
   "source": [
    "noshow_df.rename(columns={'No-show':'Noshow'},inplace=True)\n",
    "##rename the No-show feature because it cause error because of (-) used in name \n",
    "\n",
    "noshow_df.Noshow.unique()"
   ]
  },
  {
   "cell_type": "markdown",
   "metadata": {},
   "source": [
    "### Visualize Data"
   ]
  },
  {
   "cell_type": "code",
   "execution_count": 227,
   "metadata": {
    "scrolled": true
   },
   "outputs": [
    {
     "data": {
      "image/png": "[encoded data removed]",
      "text/plain": [
       "<Figure size 648x648 with 12 Axes>"
      ]
     },
     "metadata": {
      "needs_background": "light"
     },
     "output_type": "display_data"
    }
   ],
   "source": [
    "noshow_df.hist(figsize=(9,9));"
   ]
  },
  {
   "cell_type": "markdown",
   "metadata": {},
   "source": [
    "<a id='eda'></a>\n",
    "## Exploratory Data Analysis\n",
    "\n",
    "> **Tip**: Now that you've trimmed and cleaned your data, you're ready to move on to exploration. Compute statistics and create visualizations with the goal of addressing the research questions that you posed in the Introduction section. It is recommended that you be systematic with your approach. Look at one variable at a time, and then follow it up by looking at relationships between variables.\n",
    "\n",
    "### What factors are important  in order to predict if a patient will show up for their scheduled appointment?"
   ]
  },
  {
   "cell_type": "markdown",
   "metadata": {},
   "source": [
    "#### Function Used in getting relation between dependent and independent variable"
   ]
  },
  {
   "cell_type": "code",
   "execution_count": 279,
   "metadata": {},
   "outputs": [
    {
     "name": "stdout",
     "output_type": "stream",
     "text": [
      "0.24958155105077182\n"
     ]
    }
   ],
   "source": [
    "def Relation(var1,condition1,var2,condition2,condition3):\n",
    "    Show=noshow_df[(var1==condition1) & (var2==condition2)].Noshow.count()/noshow_df[(var2==condition2)].Noshow.count()\n",
    "\n",
    "    NO_Show=noshow_df[(var1==condition1) & (var2==condition3)].Noshow.count()/noshow_df[(var2==condition3)].Noshow.count()\n",
    "    \n",
    "    return Show,NO_Show\n",
    "\n",
    "Diabetes,No_Diabetes=Relation(noshow_df.Noshow,'Yes',noshow_df.Diabetes,1,0)\n",
    "\n",
    "print(Diabetes)\n",
    "\n",
    "\n",
    "                     "
   ]
  },
  {
   "cell_type": "markdown",
   "metadata": {},
   "source": [
    "### 1) Age Factor "
   ]
  },
  {
   "cell_type": "code",
   "execution_count": 250,
   "metadata": {},
   "outputs": [
    {
     "data": {
      "image/png": "[encoded data removed]",
      "text/plain": [
       "<Figure size 288x288 with 1 Axes>"
      ]
     },
     "metadata": {},
     "output_type": "display_data"
    }
   ],
   "source": [
    "noshow_df['Noshow'].value_counts().plot(kind='pie',autopct='%.2f',figsize=(4,4));\n"
   ]
  },
  {
   "cell_type": "code",
   "execution_count": 231,
   "metadata": {},
   "outputs": [
    {
     "data": {
      "image/png": "[encoded data removed]",
      "text/plain": [
       "<Figure size 432x288 with 1 Axes>"
      ]
     },
     "metadata": {
      "needs_background": "light"
     },
     "output_type": "display_data"
    }
   ],
   "source": [
    "noshow_df.Age[noshow_df['Noshow']=='No'].hist(alpha=0.7,label='Showed Up');\n",
    "noshow_df.Age[noshow_df['Noshow']=='Yes'].hist(alpha=0.7,label=\"Didnt Show UP\");\n",
    "## the only clear diffrence is that most people that show up are at age 60 and least are at age >80 but the number of people\n",
    "## above 80 is low to be used to get a result \n",
    "\n",
    "plt.legend() ;"
   ]
  },
  {
   "cell_type": "markdown",
   "metadata": {},
   "source": [
    "### 2) Gender"
   ]
  },
  {
   "cell_type": "code",
   "execution_count": 272,
   "metadata": {},
   "outputs": [
    {
     "name": "stdout",
     "output_type": "stream",
     "text": [
      "F    48070\n",
      "M    23889\n",
      "Name: Gender, dtype: int64 \n",
      "\n",
      "No     51437\n",
      "Yes    20522\n",
      "Name: Noshow, dtype: int64 \n",
      "\n",
      "Percent of Female that has shown for their appointment   0.7155398377366341 \n",
      "\n",
      "Percent of Male that has shown for their appointment     0.7133408681820085 \n",
      "\n",
      "Percent of Female that didn't show for their appointment 0.2844601622633659 \n",
      "\n",
      "Percent of Male that didn't show for their appointment   0.2866591318179915 \n",
      "\n"
     ]
    }
   ],
   "source": [
    "Show_Female=noshow_df.query(\"Noshow=='No' & Gender=='F'\").Noshow.count()/noshow_df.query(\"Gender=='F'\").Noshow.count()\n",
    "\n",
    "NO_Show_Female=noshow_df.query(\"Noshow=='Yes' & Gender=='F'\").Noshow.count()/noshow_df.query(\"Gender=='F'\").Noshow.count()\n",
    "\n",
    "\n",
    "Show_Male=noshow_df.query(\"Noshow=='No' & Gender=='M'\").Noshow.count()/noshow_df.query(\"Gender=='M'\").Noshow.count()\n",
    "\n",
    "NO_Show_Male=noshow_df.query(\"Noshow=='Yes' & Gender=='M'\").Noshow.count()/noshow_df.query(\"Gender=='M'\").Noshow.count()\n",
    "\n",
    "Gender_Count=noshow_df.Gender.value_counts()\n",
    "Noshow_Count=noshow_df.Noshow.value_counts()\n",
    "print(Gender_Count,\"\\n\")\n",
    "print(Noshow_Count,\"\\n\")\n",
    "\n",
    "print(\"Percent of Female that has shown for their appointment  \",Show_Female,\"\\n\")\n",
    "print(\"Percent of Male that has shown for their appointment    \",Show_Male,\"\\n\")\n",
    "print(\"Percent of Female that didn't show for their appointment\",NO_Show_Female,\"\\n\")\n",
    "print(\"Percent of Male that didn't show for their appointment  \",NO_Show_Male,\"\\n\")\n",
    "\n",
    "\n",
    "## Its clear that Gender doesnt affect people showing up for their appointment"
   ]
  },
  {
   "cell_type": "markdown",
   "metadata": {},
   "source": [
    "### 3) Medical Conditions "
   ]
  },
  {
   "cell_type": "code",
   "execution_count": 280,
   "metadata": {},
   "outputs": [
    {
     "name": "stdout",
     "output_type": "stream",
     "text": [
      "Percentage of People that didnt show that have diabetes relative to all people that have diabetes 0.24958155105077182\n",
      "Percentage of People that didnt show that have no diabetes relative to all people that have no diabetes 0.2880658436213992\n",
      "0    66582\n",
      "1     5377\n",
      "Name: Diabetes, dtype: int64\n"
     ]
    }
   ],
   "source": [
    "## Diabetes \n",
    "\n",
    "Diabetes,No_Diabetes=Relation(noshow_df.Noshow,'Yes',noshow_df.Diabetes,1,0)\n",
    "\n",
    "\n",
    "\n",
    "Diabetes_Count=noshow_df.Diabetes.value_counts()\n",
    "print(\"Percentage of People that didnt show that have diabetes relative to all people that have diabetes\", Diabetes)\n",
    "print(\"Percentage of People that didnt show that have no diabetes relative to all people that have no diabetes\",No_Diabetes)\n",
    "print(Diabetes_Count)"
   ]
  },
  {
   "cell_type": "markdown",
   "metadata": {},
   "source": [
    "### Note\n",
    "given that percentage of people that didn't show for their appointment is 28 percent  percentage of people that \n",
    "percentage of people that have diabetes that didn't show is 24 percent of all people that have diabetes \n",
    "while people that has no diabetes that doesnt show represent 28 percent \n",
    "so we can deduce that people that has diabetes tend to attend more appointments"
   ]
  },
  {
   "cell_type": "code",
   "execution_count": 285,
   "metadata": {},
   "outputs": [
    {
     "name": "stdout",
     "output_type": "stream",
     "text": [
      "0.340834248079034\n",
      "0.2837446711436189\n",
      "0    70137\n",
      "1     1822\n",
      "Name: Alcoholism, dtype: int64\n"
     ]
    }
   ],
   "source": [
    "##Alcoholism\n",
    "Alcoholism,No_Alcoholism=Relation(noshow_df.Noshow,'Yes',noshow_df.Alcoholism,1,0)\n",
    "\n",
    "\n",
    "\n",
    "\n",
    "Alcoholism_Count=noshow_df.Alcoholism.value_counts()\n",
    "print(Alcoholism)\n",
    "print(No_Alcoholism)\n",
    "print(Alcoholism_Count)"
   ]
  },
  {
   "cell_type": "markdown",
   "metadata": {},
   "source": [
    "### Note\n",
    "given that percentage of people that didn't show for their appointment is 28 percent  percentage of people that \n",
    "percentage of people that have Alcoholism that didn't show is 34 percent of all people that have diabetes \n",
    "while people that has no Alcoholism that doesnt show represent 28 percent \n",
    "so we can deduce that people that has Alcoholism tend to miss more appointments"
   ]
  },
  {
   "cell_type": "code",
   "execution_count": 284,
   "metadata": {},
   "outputs": [
    {
     "name": "stdout",
     "output_type": "stream",
     "text": [
      "0.23523150612027674\n",
      "0.2983821385282906\n",
      "0    56927\n",
      "1    15032\n",
      "Name: Hipertension, dtype: int64\n"
     ]
    }
   ],
   "source": [
    "##Hipertension #there is a typo\n",
    "Hypertension,No_Hypertension=Relation(noshow_df.Noshow,'Yes',noshow_df.Hipertension,1,0)\n",
    "\n",
    "\n",
    "\n",
    "Hypertension_Count=noshow_df.Hipertension.value_counts()\n",
    "\n",
    "\n",
    "print(Hypertension)\n",
    "print(No_Hypertension)\n",
    "print(Hypertension_Count)"
   ]
  },
  {
   "cell_type": "markdown",
   "metadata": {},
   "source": [
    "### Note\n",
    "given that percentage of people that didn't show for their appointment is 28 percent  percentage of people that \n",
    "percentage of people that have Hypertension that didn't show is 23 percent of all people that have Hypertension\n",
    "while people that has no Hypertension that doesnt show represent 29 percent \n",
    "so we can deduce that people that has Hypertension tend to attend more appointments \n",
    "and who has no Hypertension tend to miss more but on a  very small scale "
   ]
  },
  {
   "cell_type": "code",
   "execution_count": 236,
   "metadata": {},
   "outputs": [
    {
     "name": "stdout",
     "output_type": "stream",
     "text": [
      "0.30327868852459017\n",
      "0.2857385495102757\n",
      "0    70652\n",
      "1     1185\n",
      "2      112\n",
      "3        8\n",
      "4        2\n",
      "Name: Handcap, dtype: int64\n"
     ]
    }
   ],
   "source": [
    "##Handcap\n",
    "Handcap=noshow_df.query(\"Noshow=='Yes' & Handcap>1\").Noshow.count()/noshow_df.query(\"Handcap>1\").Noshow.count()\n",
    "\n",
    "No_Handcap=noshow_df.query(\"Noshow=='Yes' & Handcap==0\").Noshow.count()/noshow_df.query(\"Handcap==0\").Noshow.count()\n",
    "\n",
    "\n",
    "Handcap_Count=noshow_df.Handcap.value_counts()\n",
    "\n",
    "\n",
    "print(Handcap)\n",
    "print(No_Handcap)\n",
    "print(Handcap_Count)\n"
   ]
  },
  {
   "cell_type": "markdown",
   "metadata": {},
   "source": [
    "### Note\n",
    "given that percentage of people that didn't show for their appointment is 28 percent  percentage of people that \n",
    "percentage of people that have Handcap that didn't show is 30 percent of all people that have Handcap\n",
    "while people that has no Handcap that doesnt show represent 28 percent \n",
    "so we can deduce that people that has Handcap tend to miss more appointments but dataset of handcap people is so small \n",
    "to be used as an indication \n"
   ]
  },
  {
   "cell_type": "markdown",
   "metadata": {},
   "source": [
    "### 4)Scholarship"
   ]
  },
  {
   "cell_type": "code",
   "execution_count": 283,
   "metadata": {},
   "outputs": [
    {
     "name": "stdout",
     "output_type": "stream",
     "text": [
      "0.34972268025783243\n",
      "0.2785963729935057\n",
      "0    65288\n",
      "1     6671\n",
      "Name: Scholarship, dtype: int64\n"
     ]
    }
   ],
   "source": [
    "##Scholarship \n",
    "Scholarship,No_Scholarship=Relation(noshow_df.Noshow,'Yes',noshow_df.Scholarship,1,0)\n",
    "\n",
    "\n",
    "\n",
    "\n",
    "Scholarship_Count=noshow_df.Scholarship.value_counts()\n",
    "\n",
    "\n",
    "print(Scholarship)\n",
    "print(No_Scholarship)\n",
    "print(Scholarship_Count)\n"
   ]
  },
  {
   "cell_type": "markdown",
   "metadata": {},
   "source": [
    "### Note\n",
    "given that percentage of people that didn't show for their appointment is 28 percent  percentage of people that \n",
    "percentage of people that has Scholarship that didn't show is 34 percent of all people that have Scholarship\n",
    "while people that has no Scholarship that doesnt show represent 27 percent \n",
    "so we can deduce that people that has Scholarship tend to miss more appointments "
   ]
  },
  {
   "cell_type": "markdown",
   "metadata": {},
   "source": [
    "### 5) Notification_Received"
   ]
  },
  {
   "cell_type": "code",
   "execution_count": 238,
   "metadata": {},
   "outputs": [
    {
     "name": "stdout",
     "output_type": "stream",
     "text": [
      "0.27574544839637\n",
      "0.2943772788332374\n",
      "0    65288\n",
      "1     6671\n",
      "Name: Scholarship, dtype: int64\n"
     ]
    }
   ],
   "source": [
    "##SMS_received\n",
    "SMS_received=noshow_df.query(\"Noshow=='Yes' & SMS_received==1\").Noshow.count()/noshow_df.query(\"SMS_received==1\").Noshow.count()\n",
    "\n",
    "No_SMS_received=noshow_df.query(\"Noshow=='Yes' & SMS_received==0\").Noshow.count()/noshow_df.query(\"SMS_received==0\").Noshow.count()\n",
    "\n",
    "\n",
    "\n",
    "SMS_received_Count=noshow_df.Scholarship.value_counts()\n",
    "\n",
    "\n",
    "print(SMS_received)\n",
    "print(No_SMS_received)\n",
    "print(SMS_received_Count)\n"
   ]
  },
  {
   "cell_type": "markdown",
   "metadata": {},
   "source": [
    "Given that percentage of people that didn't show for their appointment is 28 percent  percentage of people that \n",
    "percentage of people that have received SMS that didn't show is 27 percent of all people that have received SMS\n",
    " While people that have received no SMS that doesnt show represent 29 percent \n",
    " so we can deduce that people that have received SMS tend to attend  more appointments  but also very small scale \n",
    " But also very small scale received SMS but it tends to make people attend more appointments "
   ]
  },
  {
   "cell_type": "markdown",
   "metadata": {},
   "source": [
    "### 6) Appointment and Scheduled Day"
   ]
  },
  {
   "cell_type": "code",
   "execution_count": 298,
   "metadata": {},
   "outputs": [
    {
     "data": {
      "text/plain": [
       "Text(0.5, 1.0, 'Relation Between ScheduledDayName and Number Of People that show and noshow ')"
      ]
     },
     "execution_count": 298,
     "metadata": {},
     "output_type": "execute_result"
    },
    {
     "data": {
      "image/png": "[encoded data removed]",
      "text/plain": [
       "<Figure size 1440x360 with 1 Axes>"
      ]
     },
     "metadata": {
      "needs_background": "light"
     },
     "output_type": "display_data"
    }
   ],
   "source": [
    "##ScheduledDayName\n",
    "pd.crosstab(noshow_df['ScheduledDayName'],noshow_df['Noshow']).plot(kind='bar',figsize=(20,5));\n",
    "plt.ylabel('Number Of People');\n",
    "plt.title(\"Relation Between ScheduledDayName and Number Of People that show and noshow \")"
   ]
  },
  {
   "cell_type": "code",
   "execution_count": 297,
   "metadata": {},
   "outputs": [
    {
     "data": {
      "text/plain": [
       "Text(0.5, 1.0, 'Relation Between AppointmentDayName and Number Of People that show and noshow ')"
      ]
     },
     "execution_count": 297,
     "metadata": {},
     "output_type": "execute_result"
    },
    {
     "data": {
      "image/png": "[encoded data removed]",
      "text/plain": [
       "<Figure size 1440x360 with 1 Axes>"
      ]
     },
     "metadata": {
      "needs_background": "light"
     },
     "output_type": "display_data"
    }
   ],
   "source": [
    "##AppointmentDayName\n",
    "pd.crosstab(noshow_df['AppointmentDayName'],noshow_df['Noshow']).plot(kind='bar',figsize=(20,5));\n",
    "## THe higher percentage of appointments are on wednesday highest missed are on monday least missed are on thursday\n",
    "plt.ylabel('Number Of People');\n",
    "plt.title(\"Relation Between AppointmentDayName and Number Of People that show and noshow \")\n"
   ]
  },
  {
   "cell_type": "code",
   "execution_count": 296,
   "metadata": {},
   "outputs": [
    {
     "data": {
      "text/plain": [
       "Text(0.5, 1.0, 'Relation Between ScheduledDayMonth and Number Of People that show and noshow ')"
      ]
     },
     "execution_count": 296,
     "metadata": {},
     "output_type": "execute_result"
    },
    {
     "data": {
      "image/png": "[encoded data removed]",
      "text/plain": [
       "<Figure size 1440x360 with 1 Axes>"
      ]
     },
     "metadata": {
      "needs_background": "light"
     },
     "output_type": "display_data"
    }
   ],
   "source": [
    "##ScheduledDayMonth\n",
    "pd.crosstab(noshow_df['ScheduledDayMonth'],noshow_df['Noshow']).plot(kind='bar',figsize=(20,5));\n",
    "plt.ylabel('Number Of People');\n",
    "plt.title(\"Relation Between ScheduledDayMonth and Number Of People that show and noshow \")"
   ]
  },
  {
   "cell_type": "code",
   "execution_count": 295,
   "metadata": {},
   "outputs": [
    {
     "data": {
      "text/plain": [
       "Text(0.5, 1.0, 'Relation Between AppointmentDayMonth and Number Of People that show and noshow ')"
      ]
     },
     "execution_count": 295,
     "metadata": {},
     "output_type": "execute_result"
    },
    {
     "data": {
      "image/png": "[encoded data removed]",
      "text/plain": [
       "<Figure size 1440x360 with 1 Axes>"
      ]
     },
     "metadata": {
      "needs_background": "light"
     },
     "output_type": "display_data"
    }
   ],
   "source": [
    "##AppointmentDayMonth\n",
    "pd.crosstab(noshow_df['AppointmentDayMonth'],noshow_df['Noshow']).plot(kind='bar',figsize=(20,5));\n",
    "## most appointments are on May\n",
    "plt.ylabel('Number Of People');\n",
    "plt.title(\"Relation Between AppointmentDayMonth and Number Of People that show and noshow \")"
   ]
  },
  {
   "cell_type": "code",
   "execution_count": 294,
   "metadata": {},
   "outputs": [
    {
     "data": {
      "text/plain": [
       "Text(0.5, 1.0, 'Relation Between Waiting Interval and Number Of People that show and noshow ')"
      ]
     },
     "execution_count": 294,
     "metadata": {},
     "output_type": "execute_result"
    },
    {
     "data": {
      "image/png": "[encoded data removed]",
      "text/plain": [
       "<Figure size 432x288 with 1 Axes>"
      ]
     },
     "metadata": {
      "needs_background": "light"
     },
     "output_type": "display_data"
    }
   ],
   "source": [
    "##Waiting Interval\n",
    "noshow_df.Waiting_Interval[noshow_df['Noshow']=='No'].hist(alpha=0.7,label='Showed Up');\n",
    "noshow_df.Waiting_Interval[noshow_df['Noshow']=='Yes'].hist(alpha=0.7,label=\"Didnt Show UP\");\n",
    "plt.legend();\n",
    "plt.xlabel(\"Waiting Interval\");\n",
    "plt.ylabel('Number Of People');\n",
    "plt.title(\"Relation Between Waiting Interval and Number Of People that show and noshow \")\n",
    "## most people have their appointment in the same day they Scheduled \n",
    "\n"
   ]
  },
  {
   "cell_type": "markdown",
   "metadata": {},
   "source": [
    "### 7) Neighbourhood"
   ]
  },
  {
   "cell_type": "code",
   "execution_count": 293,
   "metadata": {},
   "outputs": [
    {
     "data": {
      "image/png": "[encoded data removed]",
      "text/plain": [
       "<Figure size 1440x720 with 1 Axes>"
      ]
     },
     "metadata": {
      "needs_background": "light"
     },
     "output_type": "display_data"
    }
   ],
   "source": [
    "## Neighbourhood\n",
    "pd.crosstab(noshow_df['Neighbourhood'],noshow_df['Noshow']).plot(kind='bar',figsize=(20,10));\n",
    "plt.title(\"Relation Between Neighbourhood and Number Of People that show and noshow \")\n",
    "plt.ylabel('Number Of People');"
   ]
  },
  {
   "cell_type": "markdown",
   "metadata": {},
   "source": [
    "<a id='conclusions'></a>\n",
    "## Conclusions\n",
    "the only clear diffrence is that most people that show up are at age 60 and least are at age >80 but the number of people\n",
    "above 80 is low to be used to get a result \n",
    "Its clear that Gender doesnt affect people showing up for their appointment\n",
    "\n",
    "given that percentage of people that didn't show for their appointment is 28 percent  percentage of people that \n",
    "percentage of people that have diabetes that didn't show is 24 percent of all people that have diabetes \n",
    "while people that has no diabetes that doesnt show represent 28 percent \n",
    "so we can deduce that people that has diabetes tend to attend more appointments\n",
    "given that percentage of people that didn't show for their appointment is 28 percent  percentage of people that \n",
    "\n",
    "percentage of people that have Alcoholism that didn't show is 34 percent of all people that have diabetes \n",
    "while people that has no Alcoholism that doesnt show represent 28 percent \n",
    "so we can deduce that people that has Alcoholism tend to miss more appointments\n",
    "\n",
    "given that percentage of people that didn't show for their appointment is 28 percent  percentage of people that \n",
    "percentage of people that have Hypertension that didn't show is 23 percent of all people that have Hypertension\n",
    "while people that has no Hypertension that doesnt show represent 29 percent \n",
    "so we can deduce that people that has Hypertension tend to attend more appointments \n",
    "and who has no Hypertension tend to miss more but on a  very small scale \n",
    "\n",
    "\n",
    "given that percentage of people that didn't show for their appointment is 28 percent  percentage of people that \n",
    "percentage of people that have Handcap that didn't show is 30 percent of all people that have Handcap\n",
    "while people that has no Handcap that doesnt show represent 28 percent \n",
    "so we can deduce that people that has Handcap tend to miss more appointments but dataset of handcap people is so small \n",
    "to be used as an indication \n",
    "\n",
    "\n",
    "\n",
    "given that percentage of people that didn't show for their appointment is 28 percent  percentage of people that \n",
    "percentage of people that has Scholarship that didn't show is 34 percent of all people that have Scholarship\n",
    "while people that has no Scholarship that doesnt show represent 27 percent \n",
    "so we can deduce that people that has Scholarship tend to miss more appointments \n",
    "\n",
    "\n",
    "THe higher percentage of appointments are on wednesday and tuesday and are sheduled on same day \n",
    "\n",
    "highest missed are on monday least missed are on thursday\n",
    "\n",
    "most appointments are on May\n",
    "\n",
    "\n",
    "most people have their appointment in the same day they Scheduled \n",
    "\n",
    "\n",
    "coorleartion between  Neighbourhood and noshow is represented in graph \n",
    "\n"
   ]
  },
  {
   "cell_type": "markdown",
   "metadata": {},
   "source": [
    "### LImitation \n",
    " \n",
    "There is some features that has very small number so we cannt deduce the effect of the feature on the people this has been shown in the conclusion also the other limitation is that duplicate entries wasnt dealt with in this Analysis "
   ]
  },
  {
   "cell_type": "code",
   "execution_count": null,
   "metadata": {},
   "outputs": [],
   "source": []
  },
  {
   "cell_type": "code",
   "execution_count": null,
   "metadata": {},
   "outputs": [],
   "source": []
  }
 ],
 "metadata": {
  "kernelspec": {
   "display_name": "Python 3",
   "language": "python",
   "name": "python3"
  },
  "language_info": {
   "codemirror_mode": {
    "name": "ipython",
    "version": 3
   },
   "file_extension": ".py",
   "mimetype": "text/x-python",
   "name": "python",
   "nbconvert_exporter": "python",
   "pygments_lexer": "ipython3",
   "version": "3.8.5"
  }
 },
 "nbformat": 4,
 "nbformat_minor": 2
}
